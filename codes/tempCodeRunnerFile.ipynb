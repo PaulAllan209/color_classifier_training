loaded_model = "model1" # Pick the name of the desired model that you want to train.
models_path = "../trained_models" # Folder path of the models

train_path = f"{models_path}/{loaded_model}/saved_per_train" # The train path of the model
last_trained = os.listdir(train_path)[-1] # This gives the latest trained